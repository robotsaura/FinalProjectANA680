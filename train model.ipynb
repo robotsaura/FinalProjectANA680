{
 "cells": [
  {
   "cell_type": "code",
   "execution_count": 6,
   "id": "113a8720",
   "metadata": {},
   "outputs": [],
   "source": [
    "import pandas as pd\n",
    "\n",
    "# Load the datasets\n",
    "train_data = pd.read_csv('CQ4_train.csv')\n",
    "test_data = pd.read_csv('CQ4_test.csv')\n",
    "val_data = pd.read_csv('CQ4_val.csv')\n"
   ]
  },
  {
   "cell_type": "code",
   "execution_count": 7,
   "id": "5824d789",
   "metadata": {},
   "outputs": [],
   "source": [
    "# Separate features and target\n",
    "X_train = train_data[['test1', 'test2', 'test3', 'test4']]\n",
    "y_train = train_data['pass']\n",
    "\n",
    "X_val = val_data[['test1', 'test2', 'test3', 'test4']]\n",
    "y_val = val_data['pass']\n"
   ]
  },
  {
   "cell_type": "code",
   "execution_count": 8,
   "id": "437419da",
   "metadata": {},
   "outputs": [],
   "source": [
    "from sklearn.ensemble import RandomForestClassifier\n",
    "from sklearn.metrics import accuracy_score, precision_score, recall_score, f1_score\n",
    "\n",
    "# Initialize the model\n",
    "model = RandomForestClassifier(random_state=42)\n",
    "\n",
    "# Train the model\n",
    "model.fit(X_train, y_train)\n",
    "\n",
    "# Make predictions on the validation set\n",
    "y_val_pred = model.predict(X_val)\n"
   ]
  },
  {
   "cell_type": "code",
   "execution_count": 9,
   "id": "dda20a6f",
   "metadata": {},
   "outputs": [
    {
     "name": "stdout",
     "output_type": "stream",
     "text": [
      "Validation Accuracy: 0.89\n",
      "Validation Precision: 0.9871794871794872\n",
      "Validation Recall: 0.7857142857142857\n",
      "Validation F1 Score: 0.8750000000000001\n"
     ]
    }
   ],
   "source": [
    "# Evaluate the model\n",
    "accuracy = accuracy_score(y_val, y_val_pred)\n",
    "precision = precision_score(y_val, y_val_pred)\n",
    "recall = recall_score(y_val, y_val_pred)\n",
    "f1 = f1_score(y_val, y_val_pred)\n",
    "\n",
    "print(f'Validation Accuracy: {accuracy}')\n",
    "print(f'Validation Precision: {precision}')\n",
    "print(f'Validation Recall: {recall}')\n",
    "print(f'Validation F1 Score: {f1}')\n"
   ]
  },
  {
   "cell_type": "code",
   "execution_count": 10,
   "id": "b2ce1497",
   "metadata": {},
   "outputs": [],
   "source": [
    "import pickle\n",
    "\n",
    "# Save the trained model\n",
    "with open('cq4_model.pkl', 'wb') as f:\n",
    "    pickle.dump(model, f)\n"
   ]
  },
  {
   "cell_type": "code",
   "execution_count": null,
   "id": "b5232111",
   "metadata": {},
   "outputs": [],
   "source": []
  }
 ],
 "metadata": {
  "kernelspec": {
   "display_name": "Python 3 (ipykernel)",
   "language": "python",
   "name": "python3"
  },
  "language_info": {
   "codemirror_mode": {
    "name": "ipython",
    "version": 3
   },
   "file_extension": ".py",
   "mimetype": "text/x-python",
   "name": "python",
   "nbconvert_exporter": "python",
   "pygments_lexer": "ipython3",
   "version": "3.11.5"
  }
 },
 "nbformat": 4,
 "nbformat_minor": 5
}
